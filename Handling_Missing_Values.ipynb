{
  "nbformat": 4,
  "nbformat_minor": 0,
  "metadata": {
    "colab": {
      "name": "Handling Missing Values",
      "provenance": [],
      "mount_file_id": "1BqcMdeX0vrzeU0an0xM6ZxT2NkApq6KR",
      "authorship_tag": "ABX9TyO9F1RfBsy4MX1jeNl6WxjO",
      "include_colab_link": true
    },
    "kernelspec": {
      "name": "python3",
      "display_name": "Python 3"
    },
    "language_info": {
      "name": "python"
    }
  },
  "cells": [
    {
      "cell_type": "markdown",
      "metadata": {
        "id": "view-in-github",
        "colab_type": "text"
      },
      "source": [
        "<a href=\"https://colab.research.google.com/github/Chifu1001/WorldBank/blob/master/Handling_Missing_Values.ipynb\" target=\"_parent\"><img src=\"https://colab.research.google.com/assets/colab-badge.svg\" alt=\"Open In Colab\"/></a>"
      ]
    },
    {
      "cell_type": "code",
      "metadata": {
        "id": "FFwJnmn2jHcW"
      },
      "source": [
        "import pandas as pd\n",
        "import numpy as np"
      ],
      "execution_count": null,
      "outputs": []
    },
    {
      "cell_type": "code",
      "metadata": {
        "id": "AYAp4cvNjN4h"
      },
      "source": [
        "nf1_data = pd.read_csv('/content/drive/MyDrive/Colab Notebooks/Practice_Data_Cleaning/NFL Play by Play 2009-2017 (v4).csv')\n",
        "sf_data = pd.read_csv('/content/drive/MyDrive/Colab Notebooks/Practice_Data_Cleaning/Building_Permits.csv')"
      ],
      "execution_count": null,
      "outputs": []
    },
    {
      "cell_type": "code",
      "metadata": {
        "id": "EPQTR1CCj490"
      },
      "source": [
        "# set seed for reproducivility\n",
        "\n",
        "np.random.seed(0)"
      ],
      "execution_count": null,
      "outputs": []
    },
    {
      "cell_type": "code",
      "metadata": {
        "id": "AUNvtW54kBJc"
      },
      "source": [
        "# look at a few rows of the nf1_data file randomly\n",
        "\n",
        "nf1_data.sample(5)"
      ],
      "execution_count": null,
      "outputs": []
    },
    {
      "cell_type": "markdown",
      "metadata": {
        "id": "7aur1JleoKmL"
      },
      "source": [
        "# Explore Missing Values"
      ]
    },
    {
      "cell_type": "code",
      "metadata": {
        "colab": {
          "base_uri": "https://localhost:8080/"
        },
        "id": "te4tAc0ykk7F",
        "outputId": "ec8e4f06-a973-48fa-9ec5-09aaa427296c"
      },
      "source": [
        "# get the number of missing data points per colum\n",
        "\n",
        "missing_value_count = nf1_data.isnull().sum()\n",
        "print(missing_value_count)"
      ],
      "execution_count": null,
      "outputs": [
        {
          "output_type": "stream",
          "text": [
            "Date             0\n",
            "GameID           0\n",
            "Drive            0\n",
            "qtr              0\n",
            "down         61154\n",
            "             ...  \n",
            "Win_Prob     25009\n",
            "WPA           5541\n",
            "airWPA      248501\n",
            "yacWPA      248762\n",
            "Season           0\n",
            "Length: 102, dtype: int64\n"
          ],
          "name": "stdout"
        }
      ]
    },
    {
      "cell_type": "code",
      "metadata": {
        "colab": {
          "base_uri": "https://localhost:8080/"
        },
        "id": "looWHFL-m4eq",
        "outputId": "e1346225-bdf1-4376-e018-1c71cba03b59"
      },
      "source": [
        "# how many total missing values do we have?\n",
        "\n",
        "total_cells= np.product(nf1_data.shape) # total rows\n",
        "total_missing = missing_value_count.sum() # total missing values\n",
        "\n",
        "# percent of data that is missing\n",
        "\n",
        "total_missing / total_cells * 100"
      ],
      "execution_count": null,
      "outputs": [
        {
          "output_type": "execute_result",
          "data": {
            "text/plain": [
              "24.87214126835169"
            ]
          },
          "metadata": {
            "tags": []
          },
          "execution_count": 12
        }
      ]
    },
    {
      "cell_type": "markdown",
      "metadata": {
        "id": "GAu9IlPMn3I8"
      },
      "source": [
        "Insights: Almost a quarter of the cells in the dataset is empty"
      ]
    },
    {
      "cell_type": "code",
      "metadata": {
        "id": "amjXUZacyhyG"
      },
      "source": [
        "# see the columns with missing values\n",
        "\n",
        "nf1_data[nf1_data.isnull()]"
      ],
      "execution_count": null,
      "outputs": []
    },
    {
      "cell_type": "markdown",
      "metadata": {
        "id": "QRmlWHjhoQJS"
      },
      "source": [
        "# Why the data is missing"
      ]
    },
    {
      "cell_type": "markdown",
      "metadata": {
        "id": "9rt2BDMGpVP9"
      },
      "source": [
        "**Is this value missing because it wasn't record or because it doesn't exist?**\n",
        "\n",
        "\n",
        "\n",
        "*   It doesn't exist -> keep as NaN\n",
        "*   It wasn't recorded -> try to guess (imputation)  \n",
        "\n"
      ]
    },
    {
      "cell_type": "markdown",
      "metadata": {
        "id": "ahnUt-9zzJHY"
      },
      "source": [
        "# Methond 1: Dropping missing value"
      ]
    },
    {
      "cell_type": "code",
      "metadata": {
        "id": "H0OpbRmSzPy0"
      },
      "source": [
        "# drop rows ANY columns have missing value\n",
        "\n",
        "nf1_data.dropna(how='any').shape\n",
        "\n",
        "# drop rows if ALL of its values are missing\n",
        "\n",
        "nf1_data.dropna(how='all').shape\n",
        "\n",
        "# drop a row if EITHER airWPA or yacWAC reported are missing\n",
        "nf1_data.dropna(subset=['airWPA', 'yacWAC'], how= 'any').shape"
      ],
      "execution_count": null,
      "outputs": []
    },
    {
      "cell_type": "code",
      "metadata": {
        "colab": {
          "base_uri": "https://localhost:8080/"
        },
        "id": "z2e0EvyM0_29",
        "outputId": "a63a8fab-b0be-48ac-eb37-23c367560882"
      },
      "source": [
        "nf1_data['down'].value_counts(dropna=False)"
      ],
      "execution_count": null,
      "outputs": [
        {
          "output_type": "execute_result",
          "data": {
            "text/plain": [
              "1.0    138878\n",
              "2.0    104089\n",
              "3.0     67398\n",
              "NaN     61154\n",
              "4.0     36169\n",
              "Name: down, dtype: int64"
            ]
          },
          "metadata": {
            "tags": []
          },
          "execution_count": 21
        }
      ]
    },
    {
      "cell_type": "markdown",
      "metadata": {
        "id": "2teuvBOVrwkg"
      },
      "source": [
        "# Filling in missing values automatically"
      ]
    },
    {
      "cell_type": "code",
      "metadata": {
        "colab": {
          "base_uri": "https://localhost:8080/",
          "height": 204
        },
        "id": "NHfaaTyZr2hy",
        "outputId": "233ccae2-69db-4cc3-effc-d81987056eb4"
      },
      "source": [
        "# get a small subset of the data so that it will print well\n",
        "\n",
        "subset_nf1_data = nf1_data.loc[:, 'EPA':'Season'].head()\n",
        "subset_nf1_data"
      ],
      "execution_count": null,
      "outputs": [
        {
          "output_type": "execute_result",
          "data": {
            "text/html": [
              "<div>\n",
              "<style scoped>\n",
              "    .dataframe tbody tr th:only-of-type {\n",
              "        vertical-align: middle;\n",
              "    }\n",
              "\n",
              "    .dataframe tbody tr th {\n",
              "        vertical-align: top;\n",
              "    }\n",
              "\n",
              "    .dataframe thead th {\n",
              "        text-align: right;\n",
              "    }\n",
              "</style>\n",
              "<table border=\"1\" class=\"dataframe\">\n",
              "  <thead>\n",
              "    <tr style=\"text-align: right;\">\n",
              "      <th></th>\n",
              "      <th>EPA</th>\n",
              "      <th>airEPA</th>\n",
              "      <th>yacEPA</th>\n",
              "      <th>Home_WP_pre</th>\n",
              "      <th>Away_WP_pre</th>\n",
              "      <th>Home_WP_post</th>\n",
              "      <th>Away_WP_post</th>\n",
              "      <th>Win_Prob</th>\n",
              "      <th>WPA</th>\n",
              "      <th>airWPA</th>\n",
              "      <th>yacWPA</th>\n",
              "      <th>Season</th>\n",
              "    </tr>\n",
              "  </thead>\n",
              "  <tbody>\n",
              "    <tr>\n",
              "      <th>0</th>\n",
              "      <td>2.014474</td>\n",
              "      <td>NaN</td>\n",
              "      <td>NaN</td>\n",
              "      <td>0.485675</td>\n",
              "      <td>0.514325</td>\n",
              "      <td>0.546433</td>\n",
              "      <td>0.453567</td>\n",
              "      <td>0.485675</td>\n",
              "      <td>0.060758</td>\n",
              "      <td>NaN</td>\n",
              "      <td>NaN</td>\n",
              "      <td>2009</td>\n",
              "    </tr>\n",
              "    <tr>\n",
              "      <th>1</th>\n",
              "      <td>0.077907</td>\n",
              "      <td>-1.068169</td>\n",
              "      <td>1.146076</td>\n",
              "      <td>0.546433</td>\n",
              "      <td>0.453567</td>\n",
              "      <td>0.551088</td>\n",
              "      <td>0.448912</td>\n",
              "      <td>0.546433</td>\n",
              "      <td>0.004655</td>\n",
              "      <td>-0.032244</td>\n",
              "      <td>0.036899</td>\n",
              "      <td>2009</td>\n",
              "    </tr>\n",
              "    <tr>\n",
              "      <th>2</th>\n",
              "      <td>-1.402760</td>\n",
              "      <td>NaN</td>\n",
              "      <td>NaN</td>\n",
              "      <td>0.551088</td>\n",
              "      <td>0.448912</td>\n",
              "      <td>0.510793</td>\n",
              "      <td>0.489207</td>\n",
              "      <td>0.551088</td>\n",
              "      <td>-0.040295</td>\n",
              "      <td>NaN</td>\n",
              "      <td>NaN</td>\n",
              "      <td>2009</td>\n",
              "    </tr>\n",
              "    <tr>\n",
              "      <th>3</th>\n",
              "      <td>-1.712583</td>\n",
              "      <td>3.318841</td>\n",
              "      <td>-5.031425</td>\n",
              "      <td>0.510793</td>\n",
              "      <td>0.489207</td>\n",
              "      <td>0.461217</td>\n",
              "      <td>0.538783</td>\n",
              "      <td>0.510793</td>\n",
              "      <td>-0.049576</td>\n",
              "      <td>0.106663</td>\n",
              "      <td>-0.156239</td>\n",
              "      <td>2009</td>\n",
              "    </tr>\n",
              "    <tr>\n",
              "      <th>4</th>\n",
              "      <td>2.097796</td>\n",
              "      <td>NaN</td>\n",
              "      <td>NaN</td>\n",
              "      <td>0.461217</td>\n",
              "      <td>0.538783</td>\n",
              "      <td>0.558929</td>\n",
              "      <td>0.441071</td>\n",
              "      <td>0.461217</td>\n",
              "      <td>0.097712</td>\n",
              "      <td>NaN</td>\n",
              "      <td>NaN</td>\n",
              "      <td>2009</td>\n",
              "    </tr>\n",
              "  </tbody>\n",
              "</table>\n",
              "</div>"
            ],
            "text/plain": [
              "        EPA    airEPA    yacEPA  ...    airWPA    yacWPA  Season\n",
              "0  2.014474       NaN       NaN  ...       NaN       NaN    2009\n",
              "1  0.077907 -1.068169  1.146076  ... -0.032244  0.036899    2009\n",
              "2 -1.402760       NaN       NaN  ...       NaN       NaN    2009\n",
              "3 -1.712583  3.318841 -5.031425  ...  0.106663 -0.156239    2009\n",
              "4  2.097796       NaN       NaN  ...       NaN       NaN    2009\n",
              "\n",
              "[5 rows x 12 columns]"
            ]
          },
          "metadata": {
            "tags": []
          },
          "execution_count": 22
        }
      ]
    },
    {
      "cell_type": "code",
      "metadata": {
        "id": "XPZBz2XR1kXm"
      },
      "source": [
        "# replace with 0\n",
        "\n",
        "subset_nf1_data.fillna(0)\n",
        "\n",
        "# replace with values\n",
        "\n",
        "subset_nf1_data[]"
      ],
      "execution_count": null,
      "outputs": []
    }
  ]
}